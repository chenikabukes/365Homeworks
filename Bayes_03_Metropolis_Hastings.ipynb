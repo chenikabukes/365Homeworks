{
  "cells": [
    {
      "cell_type": "markdown",
      "id": "7e8a8ee2",
      "metadata": {
        "id": "7e8a8ee2"
      },
      "source": [
        "# Metropolis Hastings"
      ]
    },
    {
      "cell_type": "markdown",
      "source": [
        "## Homework\n",
        "\n",
        "---\n",
        "\n",
        "### Q1\n",
        "\n",
        "Convert your **Gibbs sampler** from the previous homework to be a **Metropolis within Gibbs** sampler.\n",
        "- Do not derive any full conditionals and instead just use the joint distribution which is the product of the likelihood with the priors\n",
        "    - Note that in fact you must only be proportional to the joint since irrelevant priors of \"the other parameter\" will cancel in the ratio\n",
        "- Note that $\\tau$ must be positive so proposals $\\tilde \\tau$ must also be positive. The easiest way to achieve this would be to use independent samples (that do not depend on $\\tau^{(t-1)}$ from exponential, half normal, gamma, or inverse gamma distributions (and other distributions defining strictly positive random variables).\n",
        "- When considering using independent proposal distributions one option of some note is to use the prior $p(\\tau)$ as this proposal distribution\n",
        "\n",
        "*Clearly articulate your specification and provide a demonstration showing the Bayesian inference it provides, in contrast to that of your previous Gibbs sampler (of Q2 from the last homework).*\n"
      ],
      "metadata": {
        "id": "ClZCeGgn8ZNt"
      },
      "id": "ClZCeGgn8ZNt"
    },
    {
      "cell_type": "code",
      "source": [
        "import numpy as np\n",
        "import matplotlib.pyplot as plt\n",
        "from scipy import stats\n",
        "from statsmodels.tsa.stattools import acf\n",
        "\n",
        "def joint_posterior(theta, tau, data, theta0, tau0, alpha, lam):\n",
        "    \"\"\"\n",
        "    Computes the unnormalized joint posterior:\n",
        "    p(theta, tau | x) ∝ p(x | theta, tau) * p(theta) * p(tau)\n",
        "\n",
        "    Returns:\n",
        "      posterior_value: unnormalized posterior probability\n",
        "    \"\"\"\n",
        "    n = len(data)\n",
        "    sum_sq = np.sum((data - theta) ** 2)\n",
        "    likelihood = tau**(n / 2) * np.exp(-0.5 * tau * sum_sq)\n",
        "    prior_theta = np.exp(-0.5 * tau0 * (theta - theta0)**2)\n",
        "    prior_tau = tau**(alpha - 1) * np.exp(-lam * tau)\n",
        "    return likelihood * prior_theta * prior_tau\n",
        "\n",
        "\n",
        "def metropolis_within_gibbs(data, theta0, tau0, alpha, lam, n_iter, burn_in, prop_sd_theta):\n",
        "    \"\"\"\n",
        "    Metropolis-within-Gibbs sampling for Normal(mean=theta, precision=tau),\n",
        "    using direct evaluation of the joint posterior instead of logs.\n",
        "\n",
        "    Returns:\n",
        "      (theta_samples, tau_samples): Posterior samples after burn-in\n",
        "    \"\"\"\n",
        "    data = np.asarray(data)\n",
        "\n",
        "    theta_samples = np.zeros(n_iter)\n",
        "    tau_samples = np.zeros(n_iter)\n",
        "\n",
        "    tau_current = np.random.gamma(shape=alpha/2, scale=1/lam/2)\n",
        "    theta_current = np.random.normal(theta0, 1 / np.sqrt(tau0))\n",
        "\n",
        "    for t in range(n_iter):\n",
        "        theta_proposed = np.random.normal(theta_current, prop_sd_theta)\n",
        "\n",
        "        p_current_theta = joint_posterior(theta_current, tau_current, data, theta0, tau0, alpha, lam)\n",
        "        p_proposed_theta = joint_posterior(theta_proposed, tau_current, data, theta0, tau0, alpha, lam)\n",
        "\n",
        "        acceptance_ratio_theta = p_proposed_theta / p_current_theta\n",
        "        if np.random.rand() < min(1, acceptance_ratio_theta):\n",
        "            theta_current = theta_proposed\n",
        "\n",
        "        tau_proposed = np.random.exponential(scale = 2)\n",
        "\n",
        "        p_current_tau = joint_posterior(theta_current, tau_current, data, theta0, tau0, alpha, lam)\n",
        "        p_proposed_tau = joint_posterior(theta_current, tau_proposed, data, theta0, tau0, alpha, lam)\n",
        "\n",
        "        acceptance_ratio_tau = (p_proposed_tau/p_current_tau)*(stats.expon.pdf(tau_current)/stats.expon.pdf(tau_proposed))\n",
        "\n",
        "        if np.random.rand() < min(1, acceptance_ratio_tau):\n",
        "            tau_current = tau_proposed\n",
        "\n",
        "        theta_samples[t] = theta_current\n",
        "        tau_samples[t] = tau_current\n",
        "\n",
        "    return theta_samples[burn_in:], tau_samples[burn_in:]\n"
      ],
      "metadata": {
        "id": "XfkO-em3WSCg"
      },
      "id": "XfkO-em3WSCg",
      "execution_count": 54,
      "outputs": []
    },
    {
      "cell_type": "code",
      "source": [
        "import random\n",
        "\n",
        "random.seed(888)\n",
        "np.random.seed(88)\n",
        "\n",
        "# Synthetic data from Normal(10, 0.05)\n",
        "true_theta, true_tau = 10, 1/20\n",
        "data = np.random.normal(true_theta, 1/np.sqrt(true_tau), size=30)\n",
        "\n",
        "# Prior hyperparameters\n",
        "theta_prior, tau_prior  = 0.0, 0.01  # Prior mean for theta and tau\n",
        "alpha, lam  = 1.0, 1.0      # Shape and rate of Gamma prior\n",
        "\n",
        "theta_samples, tau_samples = metropolis_within_gibbs(\n",
        "    data, theta_prior, tau_prior, alpha, lam, n_iter=10000, burn_in=1000, prop_sd_theta=1\n",
        ")\n",
        "\n",
        "print(\"Theta Posterior Mean:\", np.mean(theta_samples))\n",
        "print(\"Tau Posterior Mean:\", np.mean(tau_samples))\n",
        "\n",
        "plt.plot(theta_samples)\n",
        "plt.plot(tau_samples)"
      ],
      "metadata": {
        "colab": {
          "base_uri": "https://localhost:8080/",
          "height": 591
        },
        "id": "12Nlz6i3b9db",
        "outputId": "a37b3238-8882-4eac-cc3e-1dacb12b61d6"
      },
      "id": "12Nlz6i3b9db",
      "execution_count": 55,
      "outputs": [
        {
          "output_type": "stream",
          "name": "stderr",
          "text": [
            "<ipython-input-54-f9392052bcce>:44: RuntimeWarning: invalid value encountered in scalar divide\n",
            "  acceptance_ratio_theta = p_proposed_theta / p_current_theta\n",
            "<ipython-input-54-f9392052bcce>:53: RuntimeWarning: invalid value encountered in scalar divide\n",
            "  acceptance_ratio_tau = (p_proposed_tau/p_current_tau)*(stats.expon.pdf(tau_current)/stats.expon.pdf(tau_proposed))\n",
            "<ipython-input-54-f9392052bcce>:53: RuntimeWarning: divide by zero encountered in scalar divide\n",
            "  acceptance_ratio_tau = (p_proposed_tau/p_current_tau)*(stats.expon.pdf(tau_current)/stats.expon.pdf(tau_proposed))\n"
          ]
        },
        {
          "output_type": "stream",
          "name": "stdout",
          "text": [
            "Theta Posterior Mean: 10.02235876555626\n",
            "Tau Posterior Mean: 0.05048448909757397\n"
          ]
        },
        {
          "output_type": "execute_result",
          "data": {
            "text/plain": [
              "[<matplotlib.lines.Line2D at 0x7a2da1adb110>]"
            ]
          },
          "metadata": {},
          "execution_count": 55
        },
        {
          "output_type": "display_data",
          "data": {
            "text/plain": [
              "<Figure size 640x480 with 1 Axes>"
            ],
            "image/png": "[encoded data removed]"
          },
          "metadata": {}
        }
      ]
    },
    {
      "cell_type": "code",
      "source": [
        "print(np.quantile(theta_samples, [0.025, 0.975]))\n",
        "print(np.quantile(1/(tau_samples**0.5), [0.025, 0.975]))"
      ],
      "metadata": {
        "colab": {
          "base_uri": "https://localhost:8080/"
        },
        "id": "9NqHasKhdDxl",
        "outputId": "b078501e-ded8-4df7-a06d-4c9ce3cee904"
      },
      "id": "9NqHasKhdDxl",
      "execution_count": 56,
      "outputs": [
        {
          "output_type": "stream",
          "name": "stdout",
          "text": [
            "[ 8.44102832 11.61569875]\n",
            "[3.70771536 5.85814318]\n"
          ]
        }
      ]
    },
    {
      "cell_type": "markdown",
      "source": [
        "Both CI's contain the original values assigned to theta and tau."
      ],
      "metadata": {
        "id": "byvmLC_Ue2Er"
      },
      "id": "byvmLC_Ue2Er"
    },
    {
      "cell_type": "markdown",
      "source": [
        "### HW3 Gibbs Sampler"
      ],
      "metadata": {
        "id": "kPZkPIUmQq6X"
      },
      "id": "kPZkPIUmQq6X"
    },
    {
      "cell_type": "code",
      "source": [
        "def gibbs_normal_gamma(x, alpha, lam, theta0, tau0, n_iter, burn_in):\n",
        "    \"\"\"\n",
        "    Gibbs sampler for a normal(theta, 1/tau) likelihood\n",
        "    with priors:\n",
        "      theta ~ Normal(theta0, 1/tau0)\n",
        "      tau ~ Gamma(alpha, lam)   [shape=alpha, rate=lam]\n",
        "\n",
        "    Returns:\n",
        "      (theta_chain, tau_chain) : arrays of posterior samples\n",
        "    \"\"\"\n",
        "    x = np.asarray(x)\n",
        "    n = len(x)\n",
        "\n",
        "    # Storage for samples\n",
        "    theta_samples = np.zeros(n_iter)\n",
        "    tau_samples = np.zeros(n_iter)\n",
        "\n",
        "    tau_current = np.random.gamma(alpha, 1/lam)\n",
        "    theta_current  = np.random.normal(theta0, 1/np.sqrt(tau0))\n",
        "\n",
        "    for t in range(1,n_iter):\n",
        "        post_prec = tau_current * n + tau0\n",
        "        post_mean = (tau_current * n * x.mean() + tau0 * theta0) / post_prec\n",
        "\n",
        "        theta_current = np.random.normal(loc = post_mean, scale = np.sqrt(1/post_prec))\n",
        "\n",
        "        post_shape = (alpha + n)*0.5\n",
        "        sq_resid = np.sum((x - theta_current)**2)\n",
        "        post_rate = 0.5*(sq_resid + lam)\n",
        "\n",
        "        tau_current = np.random.gamma(shape=post_shape, scale=1/post_rate)\n",
        "\n",
        "        theta_samples[t]  = theta_current\n",
        "        tau_samples[t] = tau_current\n",
        "\n",
        "    return theta_samples[burn_in:], tau_samples[burn_in:]"
      ],
      "metadata": {
        "id": "HZ9SmsGSQpYF"
      },
      "id": "HZ9SmsGSQpYF",
      "execution_count": 57,
      "outputs": []
    },
    {
      "cell_type": "code",
      "source": [
        "random.seed(888)\n",
        "np.random.seed(88)\n",
        "\n",
        "# Synthetic data from Normal(10, 0.05)\n",
        "true_theta, true_tau = 10, 1/20\n",
        "data = np.random.normal(true_theta, 1/np.sqrt(true_tau), size=30)\n",
        "\n",
        "# Set prior hyperparameters\n",
        "theta_prior, tau_prior = 0.0, 0.01      # Prior mean for theta and tau\n",
        "b = 10       # Laplace prior scale parameter\n",
        "alpha, lam  = 1.0, 1.0      # Shape and rate of Gamma prior\n",
        "\n",
        "theta_samples, tau_samples = gibbs_normal_gamma(data, alpha, lam, theta_prior, tau_prior, n_iter = 10000, burn_in = 100)"
      ],
      "metadata": {
        "id": "rZQ7a0xNQ1BS"
      },
      "id": "rZQ7a0xNQ1BS",
      "execution_count": 58,
      "outputs": []
    },
    {
      "cell_type": "code",
      "source": [
        "print(\"Theta Posterior Mean in simple Gibbs:\", np.mean(theta_samples))\n",
        "print(\"Tau Posterior Mean in simple Gibb:\", np.mean(tau_samples))"
      ],
      "metadata": {
        "colab": {
          "base_uri": "https://localhost:8080/"
        },
        "id": "os9SND1gRJPU",
        "outputId": "669fd7ea-4e16-44e4-99c0-38fae8306112"
      },
      "id": "os9SND1gRJPU",
      "execution_count": 59,
      "outputs": [
        {
          "output_type": "stream",
          "name": "stdout",
          "text": [
            "Theta Posterior Mean in simple Gibbs: 10.034107224983751\n",
            "Tau Posterior Mean in simple Gibb: 0.04833618850456534\n"
          ]
        }
      ]
    },
    {
      "cell_type": "code",
      "source": [
        "fig,ax = plt.subplots(1,2,figsize=(8,3))\n",
        "ax[0].plot(theta_samples)\n",
        "ax[1].plot(tau_samples)"
      ],
      "metadata": {
        "colab": {
          "base_uri": "https://localhost:8080/",
          "height": 309
        },
        "id": "c7HKcK2GROav",
        "outputId": "f0b32ef4-7fc1-44ef-dde4-0b59b7e3d3cb"
      },
      "id": "c7HKcK2GROav",
      "execution_count": 60,
      "outputs": [
        {
          "output_type": "execute_result",
          "data": {
            "text/plain": [
              "[<matplotlib.lines.Line2D at 0x7a2da14583d0>]"
            ]
          },
          "metadata": {},
          "execution_count": 60
        },
        {
          "output_type": "display_data",
          "data": {
            "text/plain": [
              "<Figure size 800x300 with 2 Axes>"
            ],
            "image/png": "[encoded data removed]"
          },
          "metadata": {}
        }
      ]
    },
    {
      "cell_type": "code",
      "source": [
        "print(np.quantile(theta_samples, [0.025, 0.975]))\n",
        "print(np.quantile(1/(tau_samples**0.5), [0.025, 0.975]))"
      ],
      "metadata": {
        "colab": {
          "base_uri": "https://localhost:8080/"
        },
        "id": "jVJkeuXgRRHO",
        "outputId": "556f4d5b-b805-425d-8610-03501d094074"
      },
      "id": "jVJkeuXgRRHO",
      "execution_count": 61,
      "outputs": [
        {
          "output_type": "stream",
          "name": "stdout",
          "text": [
            "[ 8.34215433 11.71734024]\n",
            "[3.64729614 6.07822938]\n"
          ]
        }
      ]
    },
    {
      "cell_type": "markdown",
      "source": [
        "### Comparison\n",
        "\n",
        "Both quantiles in the metropolis within gibbs sampler and original gibbs sampler contain the theta and tau values correctly. The difference between the credible intervals is that metropolis within gibbs provides narrower intervals. On the one hand, the requirement of a proposal distribution in Metropolis-Hastings can introduce more components for which to account. These components include the sometimes challenging task of defining a proposal distribution in high-dimensional spaces and ensuring the proposal distribution is well-tuned (through hyperparameters) to the target distribution. On the other hand, for Metropolis Hastings can be used to sample from any distribution as long as we can compute the target distribution's likleihood whereas gibbs requires us to be able to sample from the full conditional distributions of each variable in the model.\n",
        "\n",
        "Altogether, it depends on the information we have about the target distribution's likelihood and/or full conditional distributions of each variable which will be the defining factor in choosing between using Metropolis Hastings or simple Gibbs sampling."
      ],
      "metadata": {
        "id": "nLHSqJ74RUlV"
      },
      "id": "nLHSqJ74RUlV"
    },
    {
      "cell_type": "markdown",
      "source": [
        "\n",
        "### Q2\n",
        "\n",
        "Adjust your **Metropolis within Gibbs** sampler as follows.\n",
        "\n",
        "- Use the following **dependent** proposal for $\\tau$\n",
        "\n",
        "```Python\n",
        "stats.truncnorm(a=-tau_t_minus_1/s, b=np.inf,\n",
        "                loc=tau_t_minus_1, scale=s)\n",
        "```\n",
        "\n",
        "- Use a prior for $\\theta$ that is not a normal distribution\n",
        "\n",
        "\n",
        "*Provide a demonstration showing the Bayesian inference provided by this sampler. Then discuss the necessity (or lackthereof) of analytically determining the full conditional distributions when performing Gibbs sampling.*"
      ],
      "metadata": {
        "id": "J_pdFeJY8tUu"
      },
      "id": "J_pdFeJY8tUu"
    },
    {
      "cell_type": "code",
      "source": [
        "def joint_posterior(theta, tau, data, theta0, b, alpha, lam):\n",
        "    \"\"\"\n",
        "    Computes the unnormalized joint posterior:\n",
        "    p(theta, tau | x) ∝ p(x | theta, tau) * p(theta) * p(tau)\n",
        "\n",
        "    Returns:\n",
        "      posterior_value: unnormalized posterior probability\n",
        "    \"\"\"\n",
        "    n = len(data)\n",
        "    sum_sq = np.sum((data - theta) ** 2)\n",
        "    likelihood = tau**(n/2) * np.exp(-0.5 * tau * sum_sq)\n",
        "    prior_theta = np.exp(-np.abs(theta - theta0)/b)\n",
        "    prior_tau = tau**(alpha - 1) * np.exp(-lam * tau)\n",
        "    return likelihood * prior_theta * prior_tau\n",
        "\n",
        "def metropolis_within_gibbs(data, theta0, b, alpha, lam, n_iter, burn_in, prop_sd_theta, s):\n",
        "    \"\"\"\n",
        "    Metropolis-within-Gibbs sampling for Normal(mean=theta, precision=tau),\n",
        "    using direct evaluation of the joint posterior instead of logs.\n",
        "\n",
        "    Returns:\n",
        "      (theta_samples, tau_samples): Posterior samples after burn-in\n",
        "    \"\"\"\n",
        "    data = np.asarray(data)\n",
        "    theta_samples = np.zeros(n_iter)\n",
        "    tau_samples = np.zeros(n_iter)\n",
        "    tau_current = np.random.gamma(shape=alpha, scale=1/lam)\n",
        "    theta_current = np.random.laplace(theta0, b)\n",
        "\n",
        "    for t in range(n_iter):\n",
        "        theta_proposed = np.random.normal(theta_current, prop_sd_theta)\n",
        "\n",
        "        p_current_theta = joint_posterior(theta_current, tau_current, data, theta0, b, alpha, lam)\n",
        "        p_proposed_theta = joint_posterior(theta_proposed, tau_current, data, theta0, b, alpha, lam)\n",
        "\n",
        "        acceptance_ratio_theta = p_proposed_theta / p_current_theta\n",
        "        if np.random.rand() < min(1, acceptance_ratio_theta):\n",
        "            theta_current = theta_proposed\n",
        "\n",
        "        tau_proposed = stats.truncnorm.rvs(a=-tau_current/s, b=np.inf, loc=tau_current, scale=s)\n",
        "\n",
        "        p_current_tau = joint_posterior(theta_current, tau_current, data, theta0, b, alpha, lam)\n",
        "        p_proposed_tau = joint_posterior(theta_current, tau_proposed, data, theta0, b, alpha, lam)\n",
        "\n",
        "        acceptance_ratio_tau = (p_proposed_tau/p_current_tau)*\\\n",
        "                               (stats.truncnorm.pdf(tau_current, a=-tau_proposed/s, b=np.inf, loc=tau_proposed, scale=s)/\\\n",
        "                                stats.truncnorm.pdf(tau_proposed, a=-tau_current/s, b=np.inf, loc=tau_current, scale=s))\n",
        "\n",
        "        if np.random.rand() < min(1, acceptance_ratio_tau):\n",
        "            tau_current = tau_proposed\n",
        "\n",
        "        theta_samples[t] = theta_current\n",
        "        tau_samples[t] = tau_current\n",
        "\n",
        "    # Discard burn-in\n",
        "    return theta_samples[burn_in:], tau_samples[burn_in:]"
      ],
      "metadata": {
        "id": "CxkGiYbe8t4N"
      },
      "id": "CxkGiYbe8t4N",
      "execution_count": 62,
      "outputs": []
    },
    {
      "cell_type": "code",
      "source": [
        "# Synthetic data from Normal(10, 0.05)\n",
        "true_theta, true_tau = 10, 1/20\n",
        "data = np.random.normal(true_theta, 1/np.sqrt(true_tau), size=30)\n",
        "\n",
        "# Set prior hyperparameters\n",
        "theta_prior = 0.0      # Prior mean for theta\n",
        "b = 10\n",
        "alpha, lam  = 1.0, 1.0   # Shape and rate of Gamma prior\n",
        "\n",
        "theta_samples, tau_samples = metropolis_within_gibbs(\n",
        "    data, theta_prior , b, alpha, lam, n_iter=10000, burn_in=500, prop_sd_theta=1, s=0.5\n",
        ")"
      ],
      "metadata": {
        "id": "a5HHkmGwmsXT"
      },
      "id": "a5HHkmGwmsXT",
      "execution_count": 64,
      "outputs": []
    },
    {
      "cell_type": "code",
      "source": [
        "print(\"Posterior mean of theta:\", np.mean(theta_samples))\n",
        "print(\"Posterior mean of tau:\", np.mean(tau_samples))\n",
        "\n",
        "plt.plot(theta_samples)\n",
        "plt.plot(tau_samples)"
      ],
      "metadata": {
        "colab": {
          "base_uri": "https://localhost:8080/",
          "height": 484
        },
        "id": "ApnY7RiWmu7a",
        "outputId": "81408f33-f4ad-4255-c23b-e406461dfe41"
      },
      "id": "ApnY7RiWmu7a",
      "execution_count": 65,
      "outputs": [
        {
          "output_type": "stream",
          "name": "stdout",
          "text": [
            "Posterior mean of theta: 7.860180607559916\n",
            "Posterior mean of tau: 0.06742739147593169\n"
          ]
        },
        {
          "output_type": "execute_result",
          "data": {
            "text/plain": [
              "[<matplotlib.lines.Line2D at 0x7a2da123f510>]"
            ]
          },
          "metadata": {},
          "execution_count": 65
        },
        {
          "output_type": "display_data",
          "data": {
            "text/plain": [
              "<Figure size 640x480 with 1 Axes>"
            ],
            "image/png": "[encoded data removed]"
          },
          "metadata": {}
        }
      ]
    },
    {
      "cell_type": "code",
      "source": [
        "print(np.quantile(theta_samples, [0.025, 0.975]))\n",
        "print(np.quantile(1/(tau_samples**0.5), [0.025, 0.975]))"
      ],
      "metadata": {
        "colab": {
          "base_uri": "https://localhost:8080/"
        },
        "id": "RHwCIQDXnb5Y",
        "outputId": "be24fbd5-ab8c-48f0-cdc7-ce1b4008c469"
      },
      "id": "RHwCIQDXnb5Y",
      "execution_count": 66,
      "outputs": [
        {
          "output_type": "stream",
          "name": "stdout",
          "text": [
            "[6.4117451  9.29615666]\n",
            "[3.07561169 5.23698258]\n"
          ]
        }
      ]
    },
    {
      "cell_type": "markdown",
      "source": [
        "### Necessity of Analytical Full Conditional Distributions for Gibbs Sampling\n",
        "\n",
        "Analytical full conditionals are the preferred scenario for Gibbs sampling because they allow for exact sampling in each step of the chain without approximation. When the full conditionals are easy to derive, Gibbs sampling becomes highly efficient and straightforward. The algorithm simply samples from the exact distribution for each variable, one at a time, while holding the others fixed.\n",
        "\n",
        "\n",
        "Gibbs sampling does not require the full conditional distributions to be analytically tractable, but it does require the ability to sample from these conditionals. If analytical conditionals are not available, approximate sampling methods may be used. This is where Metropolis-within-Gibbs comes in. If the full conditional is complex and not analytically tractable, one can use Metropolis-Hastings within each Gibbs sampling iteration. This involves proposing a new value for a variable using a proposal distribution, and then accepting or rejecting that proposal based on the target conditional distribution."
      ],
      "metadata": {
        "id": "_76ZfzRbTgL7"
      },
      "id": "_76ZfzRbTgL7"
    },
    {
      "cell_type": "markdown",
      "id": "c1d59112",
      "metadata": {
        "id": "c1d59112"
      },
      "source": [
        "\n",
        "\n",
        "### Q3\n",
        "\n",
        "For **Metropolis Hastings** targetting (**stationary distribution**) $p$ based on proposal distribuiton $q$ given below\n",
        "\n",
        "$\\begin{align}\n",
        "q(\\tilde x^{(t)} | x^{(t-1)}) &={} \\left(\\frac{1}{2}\\right)^{1-{\\tilde x^{(t)}}}\\left(\\frac{1}{2}\\right)^{\\tilde x^{(t)}} \\quad \\color{gray}{\\textrm{ ... does } \\quad \\frac{q(x^{(t-1)}|\\tilde x^{(t)})}{q(\\tilde x^{(t)}|x^{(t-1)})} \\quad  \\textrm{ cancel?}}\\\\\n",
        "\\textrm{and} \\quad p(x^{(t)}) &={} \\left(\\frac{1}{3}\\right)^{1-{x^{(t)}}}\\left(\\frac{2}{3}\\right)^{x^{(t)}}\\\\\n",
        "\\end{align}$\n",
        "\n",
        "<u>show that</u> the **transition kernel** $K$ of transition probabilities is defined the **Metropolis Hastings** algorithm is\n",
        "\n",
        "$K = \\left[\\begin{array}{cc}\\Pr(x^{(t)}=0 \\rightarrow x^{(t+1)}=0) & \\Pr(x^{(t)}=1 \\rightarrow x^{(t+1)}=0)\\\\\\Pr(x^{(t)}=0 \\rightarrow x^{(t+1)}=1)& \\Pr(x^{(t)}=1 \\rightarrow x^{(t+1)}=1)\\end{array}\\right] = \\left[\\begin{array}{cl} 0.5 & 0.25 \\\\ 0.5 & 0.75 \\end{array}\\right]$\n",
        "\n",
        "> For example\n",
        ">\n",
        "> $\\begin{align}\n",
        "\\Pr(s_1 \\rightarrow s_1) &={}\n",
        "q(\\tilde x^{(t)}=1 | x^{(t-1)}=1) + q(\\tilde x^{(t)}=0 | x^{(t-1)}=1) \\left(1- \\frac{p(\\tilde x^{(t)}=0)}{p(x^{(t-1)}=1)}\\right)\\\\\n",
        "&={} 1/2 + (1/2)(1-(1/3)/(2/3)) = 0.75\n",
        "\\end{align}$\n",
        "\n"
      ]
    },
    {
      "cell_type": "markdown",
      "id": "eba2010c",
      "metadata": {
        "id": "eba2010c"
      },
      "source": [
        "#### Given:\n",
        "1. **Proposal distribution**:\n",
        "\n",
        "   $\n",
        "   q(\\tilde x^{(t)} | x^{(t-1)}) =\n",
        "   \\begin{cases}\n",
        "   1/2 & \\text{for } \\tilde x^{(t)} = 0 \\text{ or } 1, \\\\\n",
        "   0 & \\text{otherwise.}\n",
        "   \\end{cases}\n",
        "   $\n",
        "\n",
        "   This is symmetric as $ q(\\tilde x^{(t)} | x^{(t-1)}) = q(x^{(t-1)} | \\tilde x^{(t)}) $.\n",
        "\n",
        "2. **Target stationary distribution**:\n",
        "\n",
        "   $\n",
        "   p(x^{(t)}) =\n",
        "   \\begin{cases}\n",
        "   1/3 & \\text{for } x^{(t)} = 0, \\\\\n",
        "   2/3 & \\text{for } x^{(t)} = 1.\n",
        "   \\end{cases}\n",
        "   $\n",
        "\n",
        "3. **Acceptance probability**:\n",
        "\n",
        "   The acceptance probability for moving from $ x^{(t-1)} $ to $ \\tilde x^{(t)} $ is given by:\n",
        "\n",
        "   $\n",
        "   A(x^{(t-1)}, \\tilde x^{(t)}) = \\min\\left(1, \\frac{p(\\tilde x^{(t)})}{p(x^{(t-1)})}\\right)\n",
        "   $\n",
        "\n",
        "---\n",
        "\n",
        "### Transition Kernel Computation\n",
        "\n",
        "The general form for the transition probability $\\Pr(x^{(t-1)} \\rightarrow x^{(t)}) $ is:\n",
        "\n",
        "$\n",
        "\\Pr(x^{(t-1)} \\rightarrow x^{(t)}) =\n",
        "q(\\tilde x^{(t)} | x^{(t-1)}) \\cdot A(x^{(t-1)}, \\tilde x^{(t)}).\n",
        "$\n",
        "\n",
        "#### Case 1: $ x^{(t-1)} = 0 $\n",
        "1. **Proposal to $ \\tilde x^{(t)} = 1 $**:\n",
        "\n",
        "   $\n",
        "   q(1 | 0) = 1/2, \\quad p(1) = 2/3, \\quad p(0) = 1/3.\n",
        "  $\n",
        "\n",
        "   The acceptance probability is:\n",
        "\n",
        "   $\n",
        "   A(0, 1) = \\min\\left(1, \\frac{p(1)}{p(0)}\\right) = \\min\\left(1, \\frac{2/3}{1/3}\\right) = 1.\n",
        "   $\n",
        "\n",
        "   Thus:\n",
        "\n",
        "   $\n",
        "   \\Pr(0 \\rightarrow 1) = q(1 | 0) \\cdot A(0, 1) = (1/2) \\cdot 1 = 1/2.\n",
        "   $\n",
        "\n",
        "2. **Stay at $ x^{(t)} = 0 $**:\n",
        "   The probability of staying at $ x^{(t)} = 0 $ is the complement of moving to $x^{(t)} = 1 $:\n",
        "\n",
        "   $\n",
        "   \\Pr(0 \\rightarrow 0) = 1 - \\Pr(0 \\rightarrow 1) = 1 - 1/2 = 1/2.\n",
        "   $\n",
        "\n",
        "---\n",
        "\n",
        "#### Case 2: $ x^{(t-1)} = 1 $\n",
        "1. **Proposal to $ \\tilde x^{(t)} = 0 $**:\n",
        "\n",
        "   $\n",
        "   q(0 | 1) = 1/2, \\quad p(1) = 2/3, \\quad p(0) = 1/3.\n",
        "   $\n",
        "\n",
        "   The acceptance probability is:\n",
        "\n",
        "   $\n",
        "   A(1, 0) = \\min\\left(1, \\frac{p(0)}{p(1)}\\right) = \\min\\left(1, \\frac{1/3}{2/3}\\right) = 1/2.\n",
        "   $\n",
        "\n",
        "   Thus:\n",
        "\n",
        "   $\n",
        "   \\Pr(1 \\rightarrow 0) = q(0 | 1) \\cdot A(1, 0) = (1/2) \\cdot (1/2) = 1/4.\n",
        "   $\n",
        "\n",
        "2. **Stay at $x^{(t)} = 1 $**\n",
        "\n",
        "   The probability of staying at $ x^{(t)} = 1 $ is the complement of moving to $ x^{(t)} = 0 $:\n",
        "\n",
        "   $\n",
        "   \\Pr(1 \\rightarrow 1) = 1 - \\Pr(1 \\rightarrow 0) = 1 - 1/4 = 3/4.\n",
        "   $\n",
        "\n",
        "---\n",
        "\n",
        "### Final Transition Kernel\n",
        "\n",
        "Combining the results, the transition kernel $ K $ is:\n",
        "\n",
        "$ K =\n",
        "\\begin{bmatrix}\n",
        "\\Pr(0 \\rightarrow 0) & \\Pr(1 \\rightarrow 0) \\\\\n",
        "\\Pr(0 \\rightarrow 1) & \\Pr(1 \\rightarrow 1)\n",
        "\\end{bmatrix}\n",
        "=\n",
        "\\begin{bmatrix}\n",
        "0.5 & 0.25 \\\\\n",
        "0.5 & 0.75\n",
        "\\end{bmatrix}$\n",
        "\n",
        "\n",
        "\n"
      ]
    }
  ],
  "metadata": {
    "kernelspec": {
      "display_name": "Python 3 (ipykernel)",
      "language": "python",
      "name": "python3"
    },
    "language_info": {
      "codemirror_mode": {
        "name": "ipython",
        "version": 3
      },
      "file_extension": ".py",
      "mimetype": "text/x-python",
      "name": "python",
      "nbconvert_exporter": "python",
      "pygments_lexer": "ipython3",
      "version": "3.11.4"
    },
    "colab": {
      "provenance": []
    }
  },
  "nbformat": 4,
  "nbformat_minor": 5
}